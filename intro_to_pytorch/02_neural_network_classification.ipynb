{
 "cells": [
  {
   "attachments": {},
   "cell_type": "markdown",
   "metadata": {},
   "source": [
    "## 02. Neural Network Classification with PyTorch\n",
    "\n",
    "Classification is a problem of predicting whether something is one thing or another (there can be multiple options.)"
   ]
  },
  {
   "cell_type": "code",
   "execution_count": 9,
   "metadata": {},
   "outputs": [],
   "source": [
    "import torch\n",
    "from torch import nn\n",
    "import pandas as pd\n",
    "import numpy as np\n",
    "import matplotlib.pyplot as plt\n",
    "from pathlib import Path\n",
    "\n",
    "# print(torch.__version__)\n",
    "# print(np.__version__)"
   ]
  },
  {
   "attachments": {},
   "cell_type": "markdown",
   "metadata": {},
   "source": [
    "#### 1.0 Machine Learning Library : scikit-learn"
   ]
  },
  {
   "cell_type": "code",
   "execution_count": 10,
   "metadata": {},
   "outputs": [
    {
     "data": {
      "text/plain": [
       "'\\nplt.scatter(x=X[:, 0],\\n            y=X[:, 1],\\n            c=y,\\n            cmap=plt.cm.RdYlBu)\\n'"
      ]
     },
     "execution_count": 10,
     "metadata": {},
     "output_type": "execute_result"
    }
   ],
   "source": [
    "import sklearn\n",
    "import pandas as pd\n",
    "from sklearn.datasets import make_circles\n",
    "from sklearn.model_selection import train_test_split\n",
    "\n",
    "# print(sklearn.__version__)\n",
    "# print(pd.__version__)\n",
    "\n",
    "# make 1000 samples\n",
    "n_samples = 1000\n",
    "\n",
    "# create circles\n",
    "X, y = make_circles(n_samples, # data imported from scikit learn\n",
    "                    noise=0.03,\n",
    "                    random_state=42)\n",
    "\n",
    "# print(len(X), len(y))\n",
    "# print(f\"First 5 samples of X:\\n {X[:5]}\")\n",
    "# print(f\"First 5 samples of y:\\n {y[:5]}\")\n",
    "\n",
    "# make dataframe of circle data\n",
    "circles = pd.DataFrame({\"X1\": X[:, 0],\n",
    "                         \"X2\": X[:, 1],\n",
    "                         \"label\": y})\n",
    "\n",
    "circles.head(10)\n",
    "# print(circles.head(10))\n",
    "\n",
    "# graphical visualization\n",
    "\"\"\"\n",
    "plt.scatter(x=X[:, 0],\n",
    "            y=X[:, 1],\n",
    "            c=y,\n",
    "            cmap=plt.cm.RdYlBu)\n",
    "\"\"\""
   ]
  },
  {
   "attachments": {},
   "cell_type": "markdown",
   "metadata": {},
   "source": [
    "#### 1.1 Check input and output shapes"
   ]
  },
  {
   "cell_type": "code",
   "execution_count": 11,
   "metadata": {},
   "outputs": [],
   "source": [
    "# print(X.shape, y.shape)\n",
    "# X is a data in matrix form. y is a scalar (0 or 1)\n",
    "\n",
    "# the given data is numerical values in different forms (vector, matrix, scalar)\n",
    "# not tensors yet!!!"
   ]
  },
  {
   "attachments": {},
   "cell_type": "markdown",
   "metadata": {},
   "source": [
    "#### 1.2 Turn data into tensors and create train and test splits"
   ]
  },
  {
   "cell_type": "code",
   "execution_count": 12,
   "metadata": {},
   "outputs": [
    {
     "data": {
      "text/plain": [
       "'\\nprint(X_test) # prints raw numpy data\\nprint(X_train.shape)\\nprint(len(X_train), len(X_test), len(y_train), len(y_test))\\n'"
      ]
     },
     "execution_count": 12,
     "metadata": {},
     "output_type": "execute_result"
    }
   ],
   "source": [
    "# check given type (numpy.ndarray)\n",
    "\"\"\"\n",
    "print(type(X))\n",
    "print(type(y))\n",
    "print(X.dtype)\n",
    "print(y.dtype)\n",
    "\"\"\"\n",
    "\n",
    "# change data type to tensor (torch.tensor)\n",
    "X_T = torch.from_numpy(X).type(torch.float)\n",
    "y_T = torch.from_numpy(y).type(torch.float)\n",
    "\n",
    "\"\"\"\n",
    "print(\"\")\n",
    "print(type(X_T))\n",
    "print(type(y_T))\n",
    "print(X_T.dtype)\n",
    "print(y_T.dtype)\n",
    "\"\"\"\n",
    "\n",
    "# split data into train and test\n",
    "X_train, X_test, y_train, y_test = train_test_split(X_T,\n",
    "                                                    y_T,\n",
    "                                                    test_size=0.2,\n",
    "                                                    random_state=12)\n",
    "\n",
    "\"\"\"\n",
    "print(X_test) # prints raw numpy data\n",
    "print(X_train.shape)\n",
    "print(len(X_train), len(X_test), len(y_train), len(y_test))\n",
    "\"\"\""
   ]
  },
  {
   "attachments": {},
   "cell_type": "markdown",
   "metadata": {},
   "source": [
    "#### 2.0 Building a Model\n",
    "\n",
    "Build a model to classify blue and red dots of the circle.\n",
    "\n",
    "To do:\n",
    "1. Construct a model (by subclassing `nn.Module`) <b>= INHERITANCE</b>\n",
    "2. Define a loss function and optimizer\n",
    "3. Create a training a test loop"
   ]
  },
  {
   "cell_type": "code",
   "execution_count": 13,
   "metadata": {},
   "outputs": [],
   "source": [
    "# setup device (later save and run via device)\n",
    "device = \"cpu\" # we don't have cuda (gpu)\n",
    "\n",
    "# subclass (inherit) nn.Module & construct model\n",
    "\n",
    "class CircleModelV0(nn.Module):\n",
    "\n",
    "    # constructor\n",
    "    def __init__(self):\n",
    "        super().__init__()\n",
    "\n",
    "    # linear layer (use in foward method)\n",
    "        self.layer_1 = nn.Linear(in_features=2, out_features=5)\n",
    "        self.layer_2 = nn.Linear(in_features=5, out_features=1)\n",
    "\n",
    "    # foward method\n",
    "    def forward(self, x):\n",
    "        return self.layer_2(self.layer_1(x))\n",
    "    \n",
    "model_0 = CircleModelV0().to(device)\n",
    "# model_0\n",
    "\n",
    "# use nn.Sequential to simplify model\n",
    "model_seq = nn.Sequential(\n",
    "    nn.Linear(in_features=2, out_features=5),\n",
    "    nn.Linear(in_features=5, out_features=1)\n",
    ").to(device)\n",
    "\n",
    "# model_seq\n",
    "\n",
    "\"\"\"\n",
    "print(model_0)\n",
    "print(model_seq)\n",
    "\"\"\"\n",
    "with torch.inference_mode():\n",
    "    untrained_predictions = model_0(X_test.to(device))\n",
    "# print(untrained_predictions)\n",
    "# print(y_test)\n"
   ]
  }
 ],
 "metadata": {
  "kernelspec": {
   "display_name": "Python 3",
   "language": "python",
   "name": "python3"
  },
  "language_info": {
   "codemirror_mode": {
    "name": "ipython",
    "version": 3
   },
   "file_extension": ".py",
   "mimetype": "text/x-python",
   "name": "python",
   "nbconvert_exporter": "python",
   "pygments_lexer": "ipython3",
   "version": "3.9.2"
  },
  "orig_nbformat": 4
 },
 "nbformat": 4,
 "nbformat_minor": 2
}
