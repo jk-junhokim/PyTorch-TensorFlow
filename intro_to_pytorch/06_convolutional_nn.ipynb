{
 "cells": [
  {
   "attachments": {},
   "cell_type": "markdown",
   "metadata": {},
   "source": [
    "### 1.0 Convolutional Neural Network\n",
    "\n",
    "* convolutional layer\n",
    "* relu layer\n",
    "* pooling layer"
   ]
  },
  {
   "cell_type": "code",
   "execution_count": 1,
   "metadata": {},
   "outputs": [
    {
     "name": "stderr",
     "output_type": "stream",
     "text": [
      "/Library/Frameworks/Python.framework/Versions/3.9/lib/python3.9/site-packages/tqdm/auto.py:22: TqdmWarning: IProgress not found. Please update jupyter and ipywidgets. See https://ipywidgets.readthedocs.io/en/stable/user_install.html\n",
      "  from .autonotebook import tqdm as notebook_tqdm\n"
     ]
    }
   ],
   "source": [
    "# pytorch\n",
    "import torch\n",
    "from torch import nn\n",
    "from torch.utils.data import DataLoader\n",
    "\n",
    "# torchvision\n",
    "import torchvision\n",
    "from torchvision import datasets\n",
    "from torchvision import transforms\n",
    "from torchvision.transforms import ToTensor\n",
    "\n",
    "# machine learning\n",
    "import pandas as pd\n",
    "import numpy as np\n",
    "\n",
    "# visualization\n",
    "import matplotlib.pyplot as plt\n",
    "\n",
    "# helper functions\n",
    "from pathlib import Path\n",
    "import requests\n",
    "from tqdm.auto import tqdm\n",
    "from timeit import default_timer as timer\n",
    "\n",
    "\n",
    "# device\n",
    "device = \"cpu\"\n",
    "\n",
    "# print(torch.__version__)\n",
    "# print(np.__version__)\n",
    "# print(torchvision.__version__)"
   ]
  },
  {
   "attachments": {},
   "cell_type": "markdown",
   "metadata": {},
   "source": [
    "#### 2.0 Setup\n",
    "\n",
    "* prepare & load data\n",
    "* import helper functions\n",
    "* create batches using data_loader\n",
    "* automate train, test, eval functions"
   ]
  },
  {
   "cell_type": "code",
   "execution_count": 2,
   "metadata": {},
   "outputs": [
    {
     "name": "stdout",
     "output_type": "stream",
     "text": [
      "helper_functions.py already exists, skipping download...\n"
     ]
    }
   ],
   "source": [
    "# PREPARE & LOAD DATA\n",
    "train_data = datasets.FashionMNIST(\n",
    "    root=\"data\",\n",
    "    train=True,\n",
    "    download=True,\n",
    "    transform=torchvision.transforms.ToTensor(),\n",
    "    target_transform=None\n",
    ")\n",
    "\n",
    "test_data = datasets.FashionMNIST(\n",
    "    root=\"data\",\n",
    "    train=False,\n",
    "    download=True,\n",
    "    transform=ToTensor(),\n",
    "    target_transform=None\n",
    ")\n",
    "\n",
    "# DECLARE ESSENTIAL INFO\n",
    "class_names = train_data.classes\n",
    "class_to_idx = train_data.class_to_idx\n",
    "\n",
    "\"\"\"\n",
    "print(class_names)\n",
    "print(class_to_idx)\n",
    "print(train_data, \"\\n\", test_data)\n",
    "\"\"\"\n",
    "\n",
    "# SET BATCHES\n",
    "BATCH_SIZE = 32\n",
    "\n",
    "train_dataloader = DataLoader(dataset=train_data,\n",
    "                              batch_size=BATCH_SIZE,\n",
    "                              shuffle=True)\n",
    "\n",
    "test_dataloader = DataLoader(dataset=test_data,\n",
    "                             batch_size=BATCH_SIZE,\n",
    "                             shuffle=False)\n",
    "\n",
    "\"\"\"\n",
    "print(train_dataloader, \"\\n\", test_dataloader)\n",
    "\"\"\"\n",
    "\n",
    "# IMPORT HELPER FUNCTIONS\n",
    "if Path(\"helper_functions.py\").is_file():\n",
    "    print(\"helper_functions.py already exists, skipping download...\")\n",
    "else:\n",
    "    print(\"Downloading helper_functions.py\")\n",
    "    request = requests.get(\"https://raw.githubusercontent.com/mrdbourke/pytorch-deep-learning/main/helper_functions.py\")\n",
    "    with open(\"helper_functions.py\", \"wb\") as f:\n",
    "        f.write(request.content)\n",
    "\n",
    "from helper_functions import accuracy_fn\n",
    "\n",
    "def print_train_time(start: float,\n",
    "                     end: float,\n",
    "                     device: torch.device=None):\n",
    "    \"\"\"\n",
    "    Prints difference between start adn end time.\n",
    "    \"\"\"\n",
    "\n",
    "    total_time = end - start\n",
    "    print(f\"Train time on {device} : {total_time: .3f} seconds\")\n",
    "    return total_time\n",
    "\n",
    "\n",
    "# AUTOMIZE TRAIN/TEST/EVAL FUNCTIONS\n",
    "def train_step(model: torch.nn.Module,\n",
    "               data_loader: torch.utils.data.DataLoader,\n",
    "               loss_fn: torch.nn.Module,\n",
    "               optimizer: torch.optim.Optimizer,\n",
    "               accuracy_fn,\n",
    "               device: torch.device=device):\n",
    "    \"\"\"\n",
    "    Trains model based on train data from data_loader.\n",
    "    \"\"\"\n",
    "\n",
    "    model.train()\n",
    "    train_loss, train_acc = 0, 0\n",
    "\n",
    "    for batch, (X, y) in tqdm(enumerate(data_loader), desc=\"Training Model...\"):\n",
    "        # put data on target device\n",
    "        X, y = X.to(device), y.to(device)\n",
    "\n",
    "        # make predictions\n",
    "        y_pred = model.forward(X)\n",
    "\n",
    "        # calculate & accumulate loss (wrongness)\n",
    "        loss = loss_fn(y_pred, y)\n",
    "        train_loss += loss \n",
    "\n",
    "        # calculate & accumulate acc\n",
    "        train_acc += accuracy_fn(y_true=y,\n",
    "                                 y_pred=y_pred.argmax(dim=1)) # change logits -> prediction labels\n",
    "\n",
    "        # optimize model\n",
    "        optimizer.zero_grad()\n",
    "        loss.backward()\n",
    "        optimizer.step()\n",
    "\n",
    "        # keep track of progress\n",
    "        # if batch % 400 == 0:\n",
    "        #     print(f\"Looked at {batch * len(X)}/{len(data_loader.dataset)} samples.\")\n",
    "    \n",
    "\n",
    "    train_loss /= len(data_loader)\n",
    "    train_acc /= len(data_loader)\n",
    "    print(f\"Train loss: {train_loss:.4f} | Train acc: {train_acc:.2f}%\")\n",
    "\n",
    "\n",
    "def test_step(model: torch.nn.Module,\n",
    "               data_loader: torch.utils.data.DataLoader,\n",
    "               loss_fn: torch.nn.Module,\n",
    "               accuracy_fn,\n",
    "               device: torch.device=device):\n",
    "    \"\"\"\n",
    "    Performs a test loop with model going over\n",
    "    test data from data_loader.\n",
    "    \"\"\"\n",
    "\n",
    "    model.eval()\n",
    "    test_loss, test_acc = 0, 0\n",
    "\n",
    "    with torch.inference_mode():\n",
    "        for X, y in tqdm(data_loader, desc=\"Making Predictions...\"):\n",
    "            X, y = X.to(device), y.to(device)\n",
    "\n",
    "            test_pred = model.forward(X)\n",
    "            test_loss += loss_fn(test_pred, y)\n",
    "            test_acc += accuracy_fn(y_true=y,\n",
    "                                    y_pred=test_pred.argmax(dim=1))\n",
    "\n",
    "        test_loss /= len(data_loader)\n",
    "        test_acc /= len(data_loader)\n",
    "\n",
    "    print(f\"Test Loss: {test_loss:.4f}, Test Acc: {test_acc:.2f}%\\n\")\n",
    "\n",
    "\n",
    "def eval_model(model: torch.nn.Module,\n",
    "            data_loader: torch.utils.data.DataLoader,\n",
    "            loss_fn: torch.nn.Module,\n",
    "            accuracy_fn):\n",
    "    \"\"\"\n",
    "    Returns a dictionary containing the results of model.\n",
    "    Built for easy comparison between different models.\n",
    "    The core function is equivalent to that of the \"test_step\" function.\n",
    "    \"\"\"\n",
    "\n",
    "    model.eval()\n",
    "    loss, acc = 0, 0\n",
    "\n",
    "    with torch.inference_mode():\n",
    "        for X, y in tqdm(data_loader, desc=\"Evaluating Model...\"):\n",
    "            # make predictions\n",
    "            y_pred = model.forward(X)\n",
    "\n",
    "            # accumulate loss & acc per batch\n",
    "            loss += loss_fn(y_pred, y)\n",
    "            acc += accuracy_fn(y_true=y,\n",
    "                                y_pred=y_pred.argmax(dim=1))\n",
    "            \n",
    "        # scale loss and acc to find average per batch\n",
    "        loss /= len(data_loader)\n",
    "        acc /= len(data_loader)\n",
    "\n",
    "    return {\"model_name\": model.__class__.__name__,\n",
    "            \"model_loss\": loss.item(), \n",
    "            \"model_acc\": acc}"
   ]
  },
  {
   "attachments": {},
   "cell_type": "markdown",
   "metadata": {},
   "source": [
    "#### 3.0 CNN Model"
   ]
  },
  {
   "cell_type": "code",
   "execution_count": 3,
   "metadata": {},
   "outputs": [],
   "source": [
    "class FashionMNISTModelCNN(nn.Module):\n",
    "    \"\"\"\n",
    "    Model architecture taht replicates TinyVGG model.\n",
    "    \"\"\"\n",
    "    def __init__(self,\n",
    "                 input_shape: int,\n",
    "                 hidden_units: int,\n",
    "                 output_shape: int):\n",
    "        super().__init__()\n",
    "\n",
    "        self.conv_block_1 = nn.Sequential(\n",
    "                        nn.Conv2d(in_channels=input_shape,\n",
    "                                  out_channels=hidden_units,\n",
    "                                  kernel_size=3,\n",
    "                                  stride=1,\n",
    "                                  padding=1),\n",
    "                        nn.BatchNorm2d(hidden_units),\n",
    "                        nn.ReLU(),\n",
    "                        nn.Conv2d(in_channels=hidden_units,\n",
    "                                  out_channels=hidden_units,\n",
    "                                  kernel_size=3,\n",
    "                                  stride=1,\n",
    "                                  padding=1),\n",
    "                        nn.BatchNorm2d(hidden_units),\n",
    "                        nn.ReLU(),\n",
    "                        nn.MaxPool2d(kernel_size=2)\n",
    "        )\n",
    "\n",
    "        self.conv_block_2 = nn.Sequential(\n",
    "                        nn.Conv2d(in_channels=hidden_units,\n",
    "                                  out_channels=hidden_units,\n",
    "                                  kernel_size=3,\n",
    "                                  stride=1,\n",
    "                                  padding=1),\n",
    "                        nn.BatchNorm2d(hidden_units),\n",
    "                        nn.ReLU(),\n",
    "                        nn.Conv2d(in_channels=hidden_units,\n",
    "                                  out_channels=hidden_units,\n",
    "                                  kernel_size=3,\n",
    "                                  stride=1,\n",
    "                                  padding=1),\n",
    "                        nn.BatchNorm2d(hidden_units),\n",
    "                        nn.ReLU(),\n",
    "                        nn.MaxPool2d(kernel_size=2) \n",
    "        )\n",
    "\n",
    "        self.classifier = nn.Sequential(\n",
    "                        nn.Flatten(),\n",
    "                        nn.Linear(in_features=hidden_units*7*7,\n",
    "                        out_features=output_shape)\n",
    "        )\n",
    "    \n",
    "    # print shape to calculate in_features for nn.Linear()\n",
    "    def forward(self, x):\n",
    "        x = self.conv_block_1(x)\n",
    "        # print(f\"Output shape of conv_block_1: {x.shape}\")\n",
    "        x = self.conv_block_2(x)\n",
    "        # print(f\"Output shape of conv_block_2: {x.shape}\")\n",
    "        x = self.classifier(x)\n",
    "\n",
    "        return x"
   ]
  },
  {
   "cell_type": "code",
   "execution_count": 4,
   "metadata": {},
   "outputs": [],
   "source": [
    "torch.manual_seed(42)\n",
    "model_cnn_1 = FashionMNISTModelCNN(input_shape=1,\n",
    "                                   hidden_units=10,\n",
    "                                   output_shape=len(class_names)).to(device)"
   ]
  },
  {
   "cell_type": "code",
   "execution_count": 5,
   "metadata": {},
   "outputs": [
    {
     "data": {
      "text/plain": [
       "tensor([[ 0.0288, -1.2376,  0.1975, -0.6009,  1.1697,  0.8672, -0.7627,  1.0723,\n",
       "         -0.6056,  0.1646]], grad_fn=<AddmmBackward0>)"
      ]
     },
     "execution_count": 5,
     "metadata": {},
     "output_type": "execute_result"
    }
   ],
   "source": [
    "# FIND IN_FEATURES THROUGH PRINTING SHAPES\n",
    "rand_image_tensor = torch.randn(size=(1, 28, 28))\n",
    "\n",
    "\"\"\"\n",
    "# model_cnn_1(rand_image_tensor.unsqueeze(dim=0))\n",
    "\n",
    "rand_image_tensor = torch.randn(size=(1, 10, 7, 7))\n",
    "print(rand_image_tensor.size())\n",
    "\n",
    "flatten_tensor = nn.Flatten()\n",
    "rand_image_flattened = flatten_tensor(rand_image_tensor)\n",
    "print(rand_image_flattened.size())\n",
    "\n",
    "# print(f\"Original image shape: {rand_image_tensor.shape}\")\n",
    "# print(f\"Unsqueezed image shape: {rand_image_tensor.unsqueeze(dim=0).shape}\")\n",
    "\"\"\"\n",
    "\n",
    "model_cnn_1(rand_image_tensor.unsqueeze(dim=0))"
   ]
  },
  {
   "attachments": {},
   "cell_type": "markdown",
   "metadata": {},
   "source": [
    "#### 3.1 Exploring `nn.Conv2d()`"
   ]
  },
  {
   "cell_type": "code",
   "execution_count": 6,
   "metadata": {},
   "outputs": [
    {
     "data": {
      "text/plain": [
       "'\\nprint(f\"Image batch shape: {images.shape}\")\\nprint(f\"Single image shape: {test_image.shape}\")\\nprint(f\"Test image: \\n {test_image}\")\\n'"
      ]
     },
     "execution_count": 6,
     "metadata": {},
     "output_type": "execute_result"
    }
   ],
   "source": [
    "# create dummy data\n",
    "torch.manual_seed(42)\n",
    "\n",
    "images = torch.randn(size=(32, 3, 64, 64))\n",
    "test_image = images[0]\n",
    "\n",
    "\"\"\"\n",
    "print(f\"Image batch shape: {images.shape}\")\n",
    "print(f\"Single image shape: {test_image.shape}\")\n",
    "print(f\"Test image: \\n {test_image}\")\n",
    "\"\"\""
   ]
  },
  {
   "cell_type": "code",
   "execution_count": 7,
   "metadata": {},
   "outputs": [],
   "source": [
    "# model_cnn_1.state_dict()"
   ]
  },
  {
   "cell_type": "code",
   "execution_count": 8,
   "metadata": {},
   "outputs": [
    {
     "name": "stdout",
     "output_type": "stream",
     "text": [
      "torch.Size([1, 3, 64, 64]) \n",
      " torch.Size([1, 10, 64, 64])\n"
     ]
    }
   ],
   "source": [
    "# create single conv2d layer\n",
    "torch.manual_seed(42)\n",
    "conv_layer = nn.Conv2d(in_channels=3,\n",
    "                       out_channels=10,\n",
    "                       kernel_size=(3,3),\n",
    "                       stride=1,\n",
    "                       padding=1)\n",
    "\n",
    "test_image = test_image.unsqueeze(dim=0)\n",
    "conv_output = conv_layer(test_image)\n",
    "print(test_image.shape, \"\\n\", conv_output.shape)"
   ]
  },
  {
   "attachments": {},
   "cell_type": "markdown",
   "metadata": {},
   "source": [
    "#### 3.2 Exploring `nn.nn.MaxPool2d()`"
   ]
  },
  {
   "cell_type": "code",
   "execution_count": 9,
   "metadata": {},
   "outputs": [
    {
     "name": "stdout",
     "output_type": "stream",
     "text": [
      "Test image original shape: torch.Size([3, 64, 64])\n",
      "Test image with unsqueezed dimension: torch.Size([1, 3, 64, 64])\n",
      "Shape after going through conv layer: torch.Size([1, 10, 64, 64])\n",
      "Shape after going through conv and max pool layer: torch.Size([1, 10, 32, 32])\n"
     ]
    }
   ],
   "source": [
    "test_image = images[1]\n",
    "\n",
    "print(f\"Test image original shape: {test_image.shape}\")\n",
    "print(f\"Test image with unsqueezed dimension: {test_image.unsqueeze(dim=0).shape}\")\n",
    "\n",
    "max_pool_layer = nn.MaxPool2d(kernel_size=2)\n",
    "\n",
    "test_image_through_conv = conv_layer(test_image.unsqueeze(dim=0))\n",
    "print(f\"Shape after going through conv layer: {test_image_through_conv.shape}\")\n",
    "\n",
    "test_image_through_conv_and_max_pool = max_pool_layer(test_image_through_conv)\n",
    "print(f\"Shape after going through conv and max pool layer: {test_image_through_conv_and_max_pool.shape}\")"
   ]
  },
  {
   "attachments": {},
   "cell_type": "markdown",
   "metadata": {},
   "source": [
    "#### 4.0 Set Loss Function & Optimizer"
   ]
  },
  {
   "cell_type": "code",
   "execution_count": 10,
   "metadata": {},
   "outputs": [],
   "source": [
    "loss_fn = nn.CrossEntropyLoss()\n",
    "optimizer = torch.optim.SGD(params=model_cnn_1.parameters(),\n",
    "                            lr=0.1)"
   ]
  },
  {
   "attachments": {},
   "cell_type": "markdown",
   "metadata": {},
   "source": [
    "#### 5.0 Train & Test"
   ]
  },
  {
   "cell_type": "code",
   "execution_count": 11,
   "metadata": {},
   "outputs": [
    {
     "name": "stderr",
     "output_type": "stream",
     "text": [
      "  0%|          | 0/3 [00:00<?, ?it/s]"
     ]
    },
    {
     "name": "stdout",
     "output_type": "stream",
     "text": [
      "Epoch: 0 \n",
      "------------------\n"
     ]
    },
    {
     "name": "stderr",
     "output_type": "stream",
     "text": [
      "Training Model...: 1875it [00:31, 58.97it/s]\n",
      " 33%|███▎      | 1/3 [00:31<01:03, 31.92s/it]"
     ]
    },
    {
     "name": "stdout",
     "output_type": "stream",
     "text": [
      "Train loss: 0.4216 | Train acc: 84.80%\n",
      "Epoch: 1 \n",
      "------------------\n"
     ]
    },
    {
     "name": "stderr",
     "output_type": "stream",
     "text": [
      "Training Model...: 1875it [00:34, 54.60it/s]\n",
      " 67%|██████▋   | 2/3 [01:06<00:33, 33.40s/it]"
     ]
    },
    {
     "name": "stdout",
     "output_type": "stream",
     "text": [
      "Train loss: 0.2908 | Train acc: 89.48%\n",
      "Epoch: 2 \n",
      "------------------\n"
     ]
    },
    {
     "name": "stderr",
     "output_type": "stream",
     "text": [
      "Training Model...: 1875it [00:34, 54.61it/s]\n",
      "100%|██████████| 3/3 [01:40<00:00, 33.59s/it]"
     ]
    },
    {
     "name": "stdout",
     "output_type": "stream",
     "text": [
      "Train loss: 0.2615 | Train acc: 90.58%\n",
      "Train time on cpu :  100.809 seconds\n"
     ]
    },
    {
     "name": "stderr",
     "output_type": "stream",
     "text": [
      "\n"
     ]
    }
   ],
   "source": [
    "torch.manual_seed(42)\n",
    "train_start_time_cnn = timer()\n",
    "\n",
    "epochs = 3\n",
    "for epoch in tqdm(range(epochs)):\n",
    "    print(f\"Epoch: {epoch} \\n------------------\")\n",
    "\n",
    "    train_step(model=model_cnn_1,\n",
    "               data_loader=train_dataloader,\n",
    "               loss_fn=loss_fn,\n",
    "               optimizer=optimizer,\n",
    "               accuracy_fn=accuracy_fn,\n",
    "               device=device)\n",
    "    \n",
    "    # don't normally test per epoch after train\n",
    "    # test_step(model=model_cnn_1,\n",
    "    #           data_loader=test_dataloader,\n",
    "    #           loss_fn=loss_fn,\n",
    "    #           accuracy_fn=accuracy_fn,\n",
    "    #           device=device)\n",
    "    \n",
    "train_end_time_cnn = timer()\n",
    "total_train_time = print_train_time(start=train_start_time_cnn,\n",
    "                                    end=train_end_time_cnn,\n",
    "                                    device=device)"
   ]
  },
  {
   "cell_type": "code",
   "execution_count": 12,
   "metadata": {},
   "outputs": [
    {
     "name": "stderr",
     "output_type": "stream",
     "text": [
      "Evaluating Model...: 100%|██████████| 313/313 [00:01<00:00, 169.47it/s]\n"
     ]
    },
    {
     "data": {
      "text/plain": [
       "{'model_name': 'FashionMNISTModelCNN',\n",
       " 'model_loss': 0.3111884891986847,\n",
       " 'model_acc': 88.82787539936102}"
      ]
     },
     "execution_count": 12,
     "metadata": {},
     "output_type": "execute_result"
    }
   ],
   "source": [
    "model_cnn_1_results = eval_model(\n",
    "                model=model_cnn_1, # same model (already trained)\n",
    "                data_loader=test_dataloader,\n",
    "                loss_fn=loss_fn,\n",
    "                accuracy_fn=accuracy_fn)\n",
    "\n",
    "model_cnn_1_results"
   ]
  },
  {
   "attachments": {},
   "cell_type": "markdown",
   "metadata": {},
   "source": [
    "#### 6.0 Make Predictions on Random Test Samples"
   ]
  },
  {
   "cell_type": "code",
   "execution_count": 13,
   "metadata": {},
   "outputs": [],
   "source": [
    "# make predictions on test dataset\n",
    "# and plot predicitons\n",
    "def make_predictions(model: torch.nn.Module,\n",
    "                     data: list,\n",
    "                     device: torch.device = device):\n",
    "    \n",
    "    pred_probs = []\n",
    "    model.to(device)\n",
    "    model.eval() # disables dropout, uses population BN\n",
    "    \n",
    "    with torch.inference_mode(): # no gradient tracking\n",
    "        for sample in data:\n",
    "            # prepare sample data\n",
    "            sample = torch.unsqueeze(sample, dim=0).to(device)\n",
    "\n",
    "            # forward pass (raw logits)\n",
    "            pred_logits = model(sample)\n",
    "\n",
    "            # get prediction probability\n",
    "            pred_prob = torch.softmax(pred_logits.squeeze(), dim=0)\n",
    "\n",
    "            # get pred_prob off the GPU (not in this case)\n",
    "            pred_probs.append(pred_prob.cpu())\n",
    "            # print(pred_probs[:2])\n",
    "            # print(type(pred_prob))\n",
    "\n",
    "    # turn list in to tensor\n",
    "    return torch.stack(pred_probs)"
   ]
  },
  {
   "cell_type": "code",
   "execution_count": 14,
   "metadata": {},
   "outputs": [],
   "source": [
    "# sample, label = test_data[0]\n",
    "# print(test_data)\n",
    "# print()\n",
    "# print(sample[0].shape)\n",
    "# print(sample[0].size())\n",
    "# print(sample)\n",
    "\n",
    "# img, img_label = test_data[0][:10]\n",
    "# print()\n",
    "# print(img.shape, label)"
   ]
  },
  {
   "cell_type": "code",
   "execution_count": 15,
   "metadata": {},
   "outputs": [
    {
     "data": {
      "text/plain": [
       "torch.Size([1, 28, 28])"
      ]
     },
     "execution_count": 15,
     "metadata": {},
     "output_type": "execute_result"
    }
   ],
   "source": [
    "import random\n",
    "\n",
    "random.seed(42)\n",
    "test_samples = []\n",
    "test_labels = []\n",
    "\n",
    "for sample, label in random.sample(list(test_data), k=9):\n",
    "    test_samples.append(sample)\n",
    "    test_labels.append(label)\n",
    "\n",
    "# view first sample\n",
    "test_samples[0].shape"
   ]
  },
  {
   "cell_type": "code",
   "execution_count": 16,
   "metadata": {},
   "outputs": [],
   "source": [
    "# \"squeeze\" to get rid of batch dimension\n",
    "# plt.imshow(test_samples[0].squeeze(), cmap=\"gray\")"
   ]
  },
  {
   "cell_type": "code",
   "execution_count": 17,
   "metadata": {},
   "outputs": [
    {
     "name": "stdout",
     "output_type": "stream",
     "text": [
      "tensor([[4.5625e-07, 5.0280e-08, 4.2857e-08, 2.8630e-09, 2.7659e-09, 9.9987e-01,\n",
      "         1.2179e-06, 1.0999e-07, 2.7785e-06, 1.2470e-04],\n",
      "        [1.4929e-02, 8.9830e-01, 1.6045e-03, 2.0170e-02, 2.6106e-02, 1.0189e-04,\n",
      "         3.7108e-02, 6.7600e-05, 1.3965e-03, 2.1303e-04]])\n",
      "[5, 1]\n"
     ]
    }
   ],
   "source": [
    "# make predictions\n",
    "# model_cnn_1 should already be trained\n",
    "pred_probs = make_predictions(model=model_cnn_1,\n",
    "                              data=test_samples)\n",
    "\n",
    "print(pred_probs[:2])\n",
    "print(test_labels[:2])"
   ]
  },
  {
   "cell_type": "code",
   "execution_count": 18,
   "metadata": {},
   "outputs": [
    {
     "name": "stdout",
     "output_type": "stream",
     "text": [
      "tensor([5, 1, 7, 4, 3, 0, 2, 7, 1])\n",
      "[5, 1, 7, 4, 3, 0, 4, 7, 1]\n"
     ]
    }
   ],
   "source": [
    "# convert prediction probability to labels\n",
    "pred_classes = pred_probs.argmax(dim=1)\n",
    "print(pred_classes)\n",
    "print(test_labels)"
   ]
  },
  {
   "cell_type": "code",
   "execution_count": 19,
   "metadata": {},
   "outputs": [
    {
     "data": {
      "image/png": "[encoded data removed]",
      "text/plain": [
       "<Figure size 900x900 with 9 Axes>"
      ]
     },
     "metadata": {},
     "output_type": "display_data"
    }
   ],
   "source": [
    "# plot predictions\n",
    "plt.figure(figsize=(9, 9))\n",
    "num_rows = 3\n",
    "num_cols = 3\n",
    "\n",
    "for i, sample in enumerate(test_samples):\n",
    "    # create subplot\n",
    "    plt.subplot(num_rows, num_cols, i+1)\n",
    "\n",
    "    # plot target image (test image)\n",
    "    plt.imshow(sample.squeeze(), cmap=\"gray\")\n",
    "\n",
    "    # prediction in text form (ex. \"Sandal\")\n",
    "    pred_label = class_names[pred_classes[i]]\n",
    "\n",
    "    # get truth label\n",
    "    truth_label = class_names[test_labels[i]]\n",
    "\n",
    "    # create title\n",
    "    title_text = f\"Pred: {pred_label} | Truth: {truth_label}\"\n",
    "\n",
    "    # check for equality between pred & truth\n",
    "    if pred_label == truth_label:\n",
    "        # green title if correct prediction\n",
    "        plt.title(title_text, fontsize=10, c=\"g\")\n",
    "    else:\n",
    "        # red title if correct prediction\n",
    "        plt.title(title_text, fontsize=10, c=\"r\")\n",
    "\n",
    "    plt.axis(False)\n",
    "\n",
    "    "
   ]
  },
  {
   "attachments": {},
   "cell_type": "markdown",
   "metadata": {},
   "source": [
    "#### 6.1 Using Confusion Matrix\n",
    "\n",
    "1. Make predictions with our trained model on the test dataset\n",
    "2. Make confusion matrix `torchmetrics.ConfusionMatrix `\n",
    "3. Plot confusion matrix using `mixtend.plotting.plot_confusion_matrix()`"
   ]
  },
  {
   "cell_type": "code",
   "execution_count": 29,
   "metadata": {},
   "outputs": [
    {
     "name": "stderr",
     "output_type": "stream",
     "text": [
      "Making Predictions..: 100%|██████████| 313/313 [00:02<00:00, 152.82it/s]\n"
     ]
    }
   ],
   "source": [
    "import mlxtend\n",
    "import torchmetrics\n",
    "from torchmetrics import ConfusionMatrix\n",
    "from mlxtend.plotting import plot_confusion_matrix\n",
    "from tqdm.auto import tqdm\n",
    "# print(mlxtend.__version__)\n",
    "# print(torchmetrics.__version__)\n",
    "\n",
    "# make predictions w/ trained model\n",
    "y_preds = []\n",
    "model_cnn_1.eval()\n",
    "with torch.inference_mode():\n",
    "    # goes through each batch of the test_dataloader\n",
    "    for X, y in tqdm(test_dataloader, desc=\"Making Predictions..\"):\n",
    "        X, y = X.to(device), y.to(device)\n",
    "        y_logit = model_cnn_1(X)\n",
    "        y_pred = torch.softmax(y_logit.squeeze(), dim=0).argmax(dim=1)\n",
    "        y_preds.append(y_pred.cpu())\n",
    "\n",
    "# concatenate list of predictions into a tensor\n",
    "# print(y_preds)\n",
    "y_pred_tensor = torch.cat(y_preds)\n",
    "# print(y_pred_tensor)\n",
    "# print(len(y_pred_tensor))"
   ]
  },
  {
   "cell_type": "code",
   "execution_count": 32,
   "metadata": {},
   "outputs": [
    {
     "name": "stdout",
     "output_type": "stream",
     "text": [
      "tensor([[700,   4,  37,  58,  12,   1, 183,   0,   4,   1],\n",
      "        [  8, 884,   0,  65,  33,   1,   4,   0,   5,   0],\n",
      "        [ 21,   3, 748,  24, 106,   0,  95,   0,   2,   1],\n",
      "        [ 16,  14,  13, 891,  23,   0,  32,   0,   8,   3],\n",
      "        [  5,   2,  73,  72, 743,   0, 100,   0,   4,   1],\n",
      "        [ 15,  11,   2,   9,   5, 783,  12,  60,  82,  21],\n",
      "        [ 91,   3,  69,  74,  90,   0, 667,   0,   6,   0],\n",
      "        [  1,   8,   0,   0,   0,  14,   0, 937,   7,  33],\n",
      "        [ 37,   6,   7,  16,  18,  12,  35,   6, 860,   3],\n",
      "        [  1,   4,   1,   2,   3,  13,   5, 120,  12, 839]])\n"
     ]
    },
    {
     "data": {
      "image/png": "[encoded data removed]",
      "text/plain": [
       "<Figure size 1000x700 with 1 Axes>"
      ]
     },
     "metadata": {},
     "output_type": "display_data"
    }
   ],
   "source": [
    "confmat = ConfusionMatrix(num_classes=len(class_names),\n",
    "                          task='multiclass')\n",
    "confmat_tensor = confmat(preds=y_pred_tensor,\n",
    "                         target=test_data.targets)\n",
    "# print(class_names)\n",
    "# print(y_pred_tensor)\n",
    "# print(len(y_pred_tensor))\n",
    "# print(test_data.targets)\n",
    "\n",
    "print(confmat_tensor)\n",
    "\n",
    "fig, ax = plot_confusion_matrix(\n",
    "    conf_mat=confmat_tensor.numpy(), # matplotlib works w/ numpy\n",
    "    class_names=class_names,\n",
    "    figsize=(10, 7)\n",
    ")"
   ]
  },
  {
   "cell_type": "code",
   "execution_count": 34,
   "metadata": {},
   "outputs": [
    {
     "name": "stdout",
     "output_type": "stream",
     "text": [
      "Saving model to: models/03_pytorch_cnn_with_bn.pth\n"
     ]
    }
   ],
   "source": [
    "MODEL_PATH = Path(\"models\")\n",
    "MODEL_PATH.mkdir(parents=True,\n",
    "                 exist_ok=True)\n",
    "\n",
    "MODEL_NAME = \"03_pytorch_cnn_with_bn.pth\"\n",
    "MODEL_SAVE_PATH = MODEL_PATH / MODEL_NAME\n",
    "\n",
    "# save the model state dict\n",
    "print(f\"Saving model to: {MODEL_SAVE_PATH}\")\n",
    "torch.save(obj=model_cnn_1.state_dict(),\n",
    "           f=MODEL_SAVE_PATH)"
   ]
  }
 ],
 "metadata": {
  "kernelspec": {
   "display_name": "Python 3",
   "language": "python",
   "name": "python3"
  },
  "language_info": {
   "codemirror_mode": {
    "name": "ipython",
    "version": 3
   },
   "file_extension": ".py",
   "mimetype": "text/x-python",
   "name": "python",
   "nbconvert_exporter": "python",
   "pygments_lexer": "ipython3",
   "version": "3.9.2"
  },
  "orig_nbformat": 4
 },
 "nbformat": 4,
 "nbformat_minor": 2
}
