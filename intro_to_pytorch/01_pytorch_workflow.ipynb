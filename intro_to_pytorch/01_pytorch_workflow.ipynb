{
 "cells": [
  {
   "attachments": {},
   "cell_type": "markdown",
   "metadata": {},
   "source": [
    "# PyTorch Workflow\n",
    "\n",
    "The PyTorch end-to-end workflow\n",
    "\n",
    "Resources:\n",
    "* Github Repo - https://github.com/mrdbourke/pytorch-deep-learning\n",
    "* Web Version - https://www.learnpytorch.io/01_pytorch_workflow/"
   ]
  },
  {
   "cell_type": "code",
   "execution_count": 1,
   "metadata": {},
   "outputs": [
    {
     "data": {
      "text/plain": [
       "{1: 'data (prepare and load)',\n",
       " 2: 'build model',\n",
       " 3: 'fitting the model to data (training)',\n",
       " 4: 'making prediction and evaluating (inference)',\n",
       " 5: 'saving and loading a model',\n",
       " 6: 'putting it together'}"
      ]
     },
     "execution_count": 1,
     "metadata": {},
     "output_type": "execute_result"
    }
   ],
   "source": [
    "what_were_covering = {1: \"data (prepare and load)\",\n",
    "                    2: \"build model\",\n",
    "                    3: \"fitting the model to data (training)\",\n",
    "                    4: \"making prediction and evaluating (inference)\",\n",
    "                    5: \"saving and loading a model\",\n",
    "                    6: \"putting it together\"}\n",
    "\n",
    "what_were_covering"
   ]
  },
  {
   "cell_type": "code",
   "execution_count": 2,
   "metadata": {},
   "outputs": [
    {
     "name": "stderr",
     "output_type": "stream",
     "text": [
      "/Library/Frameworks/Python.framework/Versions/3.9/lib/python3.9/site-packages/tqdm/auto.py:22: TqdmWarning: IProgress not found. Please update jupyter and ipywidgets. See https://ipywidgets.readthedocs.io/en/stable/user_install.html\n",
      "  from .autonotebook import tqdm as notebook_tqdm\n"
     ]
    },
    {
     "name": "stdout",
     "output_type": "stream",
     "text": [
      "1.13.1\n"
     ]
    }
   ],
   "source": [
    "import torch\n",
    "from torch import nn # nn contains all of PyTorch's building blocks for neural networks\n",
    "import matplotlib.pyplot as plt\n",
    "\n",
    "# Check PyTorch Version\n",
    "print(torch.__version__)"
   ]
  },
  {
   "attachments": {},
   "cell_type": "markdown",
   "metadata": {},
   "source": [
    "## 1. Data (preparing and loading)\n",
    "\n",
    "Data can be almost anything in machine learning\n",
    "\n",
    "* Excel Spreadsheet\n",
    "* Images of any kind\n",
    "* Videos (youtube etc.)\n",
    "* Audio (songs, podcasts)\n",
    "* DNA\n",
    "* Text\n",
    "\n",
    "Machine learning is a game of two parts:\n",
    "1. Get data into numerical representation.\n",
    "2. Build a model to learn patterns in that numerical representation.\n",
    "\n",
    "To showcase this, let's create some *known* data using the linear regression formula.\n",
    "\n",
    "We'll use a linear regression formula to make a straight line with *known* **parameters**."
   ]
  },
  {
   "cell_type": "code",
   "execution_count": 3,
   "metadata": {},
   "outputs": [],
   "source": [
    "# Create known parameters\n",
    "# f(x) = a + bx\n",
    "weight = 0.7\n",
    "bias = 0.3\n",
    "\n",
    "# Create Inputs\n",
    "start = 0\n",
    "end = 1\n",
    "step = 0.02\n",
    "\n",
    "# add extra bracket (dim) to X\n",
    "X = torch.arange(start, end, step).unsqueeze(dim=1) # uppercase = matrix || tensor\n",
    "\n",
    "# output per input\n",
    "y = weight * X + bias # lowercase = vector\n",
    "\n",
    "# X[:10], y[:10], len(X), len(y)"
   ]
  },
  {
   "attachments": {},
   "cell_type": "markdown",
   "metadata": {},
   "source": [
    "### Splitting data into training and test sets\n",
    "1. Training Set (60~80%)\n",
    "2. Validation Set (10~20%)\n",
    "3. Testing Set (10~20%)\n"
   ]
  },
  {
   "cell_type": "code",
   "execution_count": 4,
   "metadata": {},
   "outputs": [
    {
     "data": {
      "text/plain": [
       "(40, 40, 10, 10)"
      ]
     },
     "execution_count": 4,
     "metadata": {},
     "output_type": "execute_result"
    }
   ],
   "source": [
    "# Create a train/test split\n",
    "train_split = int(0.8 * len(X))\n",
    "X_train, y_train = X[:train_split], y[:train_split]\n",
    "X_test, y_test = X[train_split:], y[train_split:]\n",
    "\n",
    "# this method doesn't have any randomness since we're manually splitting the data\n",
    "# but we can use scikit learn split method to improve this later\n",
    "\n",
    "len(X_train), len(y_train), len(X_test), len(y_test) "
   ]
  },
  {
   "cell_type": "code",
   "execution_count": 5,
   "metadata": {},
   "outputs": [],
   "source": [
    "# how to visualize data\n",
    "# X_train, y_train\n",
    "# not intuitive"
   ]
  },
  {
   "attachments": {},
   "cell_type": "markdown",
   "metadata": {},
   "source": [
    "### How can be better visualize our data?\n",
    "### \"Visualize, visualize, visualize!\""
   ]
  },
  {
   "cell_type": "code",
   "execution_count": 6,
   "metadata": {},
   "outputs": [],
   "source": [
    "def plot_predictions(train_data = X_train,\n",
    "                     train_labels = y_train,\n",
    "                     test_data = X_test,\n",
    "                     test_labels = y_test,\n",
    "                     predictions = None):\n",
    "    \"\"\"\n",
    "    Plots training data, test data and compares predictions.\n",
    "    \"\"\"\n",
    "\n",
    "    plt.figure(figsize = (10, 7))\n",
    "\n",
    "    # plot training data in blue\n",
    "    plt.scatter(train_data, train_labels, c=\"b\", s=4, label=\"Training Data\")\n",
    "\n",
    "    # plot training data in green\n",
    "    plt.scatter(test_data, test_labels, c=\"g\", s=4, label=\"Testing Data\")\n",
    "\n",
    "    # are there predictions?\n",
    "    # modify if-statement as need be\n",
    "    if predictions is not None:\n",
    "        # plot the predictions if they exist\n",
    "        plt.scatter(test_data, predictions, c=\"r\", s=4, label=\"Predictions\")\n",
    "\n",
    "    # show the legend\n",
    "    plt.legend(prop={\"size\": 14})"
   ]
  },
  {
   "cell_type": "code",
   "execution_count": 7,
   "metadata": {},
   "outputs": [
    {
     "data": {
      "image/png": "[encoded data removed]",
      "text/plain": [
       "<Figure size 1000x700 with 1 Axes>"
      ]
     },
     "metadata": {},
     "output_type": "display_data"
    }
   ],
   "source": [
    "# the arguments are hard-coded\n",
    "plot_predictions()"
   ]
  },
  {
   "attachments": {},
   "cell_type": "markdown",
   "metadata": {},
   "source": [
    "## 2. Build Model"
   ]
  },
  {
   "cell_type": "code",
   "execution_count": 8,
   "metadata": {},
   "outputs": [],
   "source": [
    "# create linear regression model class\n",
    "# import module (nn stands for neural network)\n",
    "from torch import nn\n",
    "\n",
    "class LinearRegressionModel(nn.Module): # almost everything in PyTorch inherits from nn.Module\n",
    "    \n",
    "    # constructor\n",
    "    def __init__(self):\n",
    "        super().__init__() # inheritance\n",
    "        self.weights = nn.Parameter(torch.randn(1,\n",
    "                                                requires_grad=True,\n",
    "                                                dtype=torch.float)) # pytorch is default float32\n",
    "        self.bias = nn.Parameter(torch.randn(1,\n",
    "                                             requires_grad=True,\n",
    "                                             dtype=torch.float))\n",
    "        \n",
    "    # forward propagation\n",
    "    # x is the input data (=training set)\n",
    "    # arrow indicates the return type\n",
    "    def forward(self, x: torch.Tensor) -> torch.Tensor: # override\n",
    "        # use the linear regression formula\n",
    "        return self.weights * x + self.bias"
   ]
  },
  {
   "attachments": {},
   "cell_type": "markdown",
   "metadata": {},
   "source": [
    "### Checking the contents of our PyTorch Model\n",
    "\n",
    "Now we've created a model, let's see what's inside.\n",
    "We can check our model parameters using `.parameters()`."
   ]
  },
  {
   "cell_type": "code",
   "execution_count": 9,
   "metadata": {},
   "outputs": [
    {
     "data": {
      "text/plain": [
       "[Parameter containing:\n",
       " tensor([0.3367], requires_grad=True),\n",
       " Parameter containing:\n",
       " tensor([0.1288], requires_grad=True)]"
      ]
     },
     "execution_count": 9,
     "metadata": {},
     "output_type": "execute_result"
    }
   ],
   "source": [
    "# create random seed\n",
    "# fix the random generator\n",
    "torch.manual_seed(42)\n",
    "\n",
    "# create an instance of the model (subclass of nn.Module)\n",
    "model_0 = LinearRegressionModel()\n",
    "\n",
    "# check out the parameters\n",
    "list(model_0.parameters())\n",
    "\n",
    "# the bias and weight parameter each produce one random tensor"
   ]
  },
  {
   "cell_type": "code",
   "execution_count": 10,
   "metadata": {},
   "outputs": [
    {
     "data": {
      "text/plain": [
       "OrderedDict([('weights', tensor([0.3367])), ('bias', tensor([0.1288]))])"
      ]
     },
     "execution_count": 10,
     "metadata": {},
     "output_type": "execute_result"
    }
   ],
   "source": [
    "# list named parameters\n",
    "model_0.state_dict()"
   ]
  },
  {
   "attachments": {},
   "cell_type": "markdown",
   "metadata": {},
   "source": [
    "### Making prediction using torch.inference.mode()\n",
    "\n",
    "To check our model's predictive power, let's see how well it predict `y_test` based on `X_test`.\n",
    "When we pass data through our model, it's going to run it through the `forward()` method."
   ]
  },
  {
   "cell_type": "code",
   "execution_count": 11,
   "metadata": {},
   "outputs": [],
   "source": [
    "# X_test, y_test"
   ]
  },
  {
   "attachments": {},
   "cell_type": "markdown",
   "metadata": {},
   "source": [
    "* x_train:\n",
    "    - training data for the model\n",
    "    - initial input data to optimize the weight and bais parameters\n",
    "* y_train:\n",
    "    - the answer (fixed output) corresponding to the x_train inputs\n",
    "    - directly related to loss function by showing \"how off\" the predictions are\n",
    "* x_test:\n",
    "    - new data for the model to test on\n",
    "* y_test:\n",
    "    - the answer corresponding to the x_test inputs\n",
    "    - high accuracy in y_test is what the model is aiming for"
   ]
  },
  {
   "cell_type": "code",
   "execution_count": 12,
   "metadata": {},
   "outputs": [
    {
     "data": {
      "image/png": "[encoded data removed]",
      "text/plain": [
       "<Figure size 1000x700 with 1 Axes>"
      ]
     },
     "metadata": {},
     "output_type": "display_data"
    }
   ],
   "source": [
    "# make predictions with model\n",
    "# inference_mode disables gradient functionality\n",
    "with torch.inference_mode():\n",
    "    y_predicts = model_0(X_test)\n",
    "\n",
    "# y_predicts\n",
    "\n",
    "plot_predictions(predictions=y_predicts)"
   ]
  },
  {
   "attachments": {},
   "cell_type": "markdown",
   "metadata": {},
   "source": [
    "## 3. Train Model\n",
    "\n",
    "The whole idea of training is for a model to move from some *unknown* parameters to *known* parameters. This is equivalent to improving poor representation.\n",
    "\n",
    "It is crucial to measure how poor or wrong the current model's predictions are. We will use the loss function to measure this.\n",
    "\n",
    "**Things we need to train:**\n",
    "* **Loss Function:** A function to measure how wrong the model's predictions are to the ideal outputs. Lower is better. Our job is to reduce the error.\n",
    "* **Optimizer:** Takes into account the loss of a model and adjusts the model's parameters (i.e. weight & bias)\n",
    "\n",
    "\n",
    "**For PyTorch we need:**\n",
    "* A `Training` Loop\n",
    "* A `Testing` Loop"
   ]
  },
  {
   "cell_type": "code",
   "execution_count": 13,
   "metadata": {},
   "outputs": [],
   "source": [
    "# print(model_0.parameters())\n",
    "# print(list(model_0.parameters()))\n",
    "# print(model_0.state_dict())"
   ]
  },
  {
   "cell_type": "code",
   "execution_count": 14,
   "metadata": {},
   "outputs": [
    {
     "name": "stdout",
     "output_type": "stream",
     "text": [
      "L1Loss()\n"
     ]
    }
   ],
   "source": [
    "# setup loss function\n",
    "loss_fn = nn.L1Loss() # how wrong our model is\n",
    "print(loss_fn)\n",
    "\n",
    "# goal: minimize mean square error\n",
    "\n",
    "# setup optimizer (stochasic gradient descent)\n",
    "# fixes the 'wrongness' of our model\n",
    "# lr = learning rate = hyperparameter\n",
    "optimizer = torch.optim.SGD(params=model_0.parameters(),\n",
    "                            lr=0.01)"
   ]
  },
  {
   "attachments": {},
   "cell_type": "markdown",
   "metadata": {},
   "source": [
    "**Q:** Which loss function and optimizer should I use?\n",
    "\n",
    "**A:** This will be problem specific. But with experience, you'll get an idea of what works and what doens't with your particular problem set.\n",
    "\n",
    "For example, for a regression problem (like this example), a loss function `nn.L1Loss()` and an optimizer like `torch.optim.SGD` will suffice.\n",
    "\n",
    "But for a classification problem like classifying whether a photo is of a dog or a cat, you'll likely want to use a loss function of `nnBCELoss()` (binary cross entropy loss)."
   ]
  },
  {
   "cell_type": "code",
   "execution_count": 15,
   "metadata": {},
   "outputs": [],
   "source": [
    "from torch import nn\n",
    "\n",
    "# PREDICTION MODEL\n",
    "\n",
    "class LinearRegressionModel(nn.Module):\n",
    "    \n",
    "    def __init__(self):\n",
    "        super().__init__()\n",
    "        self.weights = nn.Parameter(torch.randn(1,\n",
    "                                                requires_grad=True,\n",
    "                                                dtype=torch.float))\n",
    "        self.bias = nn.Parameter(torch.randn(1,\n",
    "                                             requires_grad=True,\n",
    "                                             dtype=torch.float))\n",
    "        \n",
    "    def forward(self, x: torch.Tensor) -> torch.Tensor:\n",
    "\n",
    "        return self.weights * x + self.bias"
   ]
  },
  {
   "cell_type": "code",
   "execution_count": 16,
   "metadata": {},
   "outputs": [
    {
     "name": "stdout",
     "output_type": "stream",
     "text": [
      "OrderedDict([('weights', tensor([0.7376])), ('bias', tensor([1.9459]))])\n"
     ]
    }
   ],
   "source": [
    "# INPUT DATA & SETUP\n",
    "\n",
    "weight, bias = 0.7, 0.3\n",
    "start, end, step = 0, 1, 0.02\n",
    "\n",
    "X = torch.arange(start, end, step).unsqueeze(dim=1)\n",
    "y = weight * X + bias\n",
    "\n",
    "train_split = int(0.8 * len(X))\n",
    "X_train, y_train = X[:train_split], y[:train_split]\n",
    "X_test, y_test = X[train_split:], y[train_split:]\n",
    "\n",
    "torch.manual_seed(11)\n",
    "model_0 = LinearRegressionModel()\n",
    "loss_fn = nn.L1Loss()\n",
    "optimizer = torch.optim.SGD(params=model_0.parameters(), lr=0.01)\n",
    "\n",
    "print(model_0.state_dict())"
   ]
  },
  {
   "cell_type": "code",
   "execution_count": 17,
   "metadata": {},
   "outputs": [
    {
     "name": "stdout",
     "output_type": "stream",
     "text": [
      "Epoch: 0 | Loss: 1.66060471534729 | Test Loss: 1.665948510169983\n",
      "Epoch: 10 | Loss: 1.545394778251648 | Test Loss: 1.5312385559082031\n",
      "Epoch: 20 | Loss: 1.4301848411560059 | Test Loss: 1.3965288400650024\n",
      "Epoch: 30 | Loss: 1.3149750232696533 | Test Loss: 1.2618190050125122\n",
      "Epoch: 40 | Loss: 1.1997652053833008 | Test Loss: 1.1271090507507324\n",
      "Epoch: 50 | Loss: 1.0845553874969482 | Test Loss: 0.9923993349075317\n",
      "Epoch: 60 | Loss: 0.9693454504013062 | Test Loss: 0.857689380645752\n",
      "Epoch: 70 | Loss: 0.8541356325149536 | Test Loss: 0.7229796051979065\n",
      "Epoch: 80 | Loss: 0.7389256954193115 | Test Loss: 0.5882697701454163\n",
      "Epoch: 90 | Loss: 0.6237158179283142 | Test Loss: 0.4535599648952484\n",
      "Epoch: 100 | Loss: 0.5085060000419617 | Test Loss: 0.3188501000404358\n",
      "Epoch: 110 | Loss: 0.3932960629463196 | Test Loss: 0.18414029479026794\n",
      "Epoch: 120 | Loss: 0.27808621525764465 | Test Loss: 0.04943046718835831\n",
      "Epoch: 130 | Loss: 0.1650274693965912 | Test Loss: 0.08191774785518646\n",
      "Epoch: 140 | Loss: 0.11822468042373657 | Test Loss: 0.155471533536911\n",
      "Epoch: 150 | Loss: 0.1040259376168251 | Test Loss: 0.188516765832901\n",
      "Epoch: 160 | Loss: 0.09756895899772644 | Test Loss: 0.20193859934806824\n",
      "Epoch: 170 | Loss: 0.09325946867465973 | Test Loss: 0.2054504156112671\n",
      "Epoch: 180 | Loss: 0.08964268863201141 | Test Loss: 0.20199505984783173\n",
      "Epoch: 190 | Loss: 0.08611457794904709 | Test Loss: 0.1978437900543213\n"
     ]
    }
   ],
   "source": [
    "# an epoch is one loop through data\n",
    "# epochs = 100000\n",
    "torch.manual_seed(11)\n",
    "epochs = 200\n",
    "\n",
    "# track different valus\n",
    "epoch_count = []\n",
    "loss_values = []\n",
    "test_loss_values = []\n",
    "\n",
    "# 0. loop through the data\n",
    "for epoch in range(epochs):\n",
    "    # set model to training mode\n",
    "    # tracks and updates gradients\n",
    "    model_0.train()\n",
    "\n",
    "    # 1. forward pass\n",
    "    y_predicts = model_0(X_train)\n",
    "\n",
    "    # 2. calculate loss\n",
    "    loss = loss_fn(y_predicts, y_train)\n",
    "    # print(f\"Loss: {loss}\")\n",
    "\n",
    "    # 3. optimizer zero grad\n",
    "    optimizer.zero_grad()\n",
    "\n",
    "    # 4. backpropagation\n",
    "    loss.backward()\n",
    "\n",
    "    # 5. gradient descent\n",
    "    optimizer.step()\n",
    "\n",
    "    # evaluate\n",
    "    model_0.eval() # turns off settings unnecessary for testing (dropout/normalization)\n",
    "    with torch.inference_mode(): # turn off gradient tracking\n",
    "        test_pred = model_0(X_test) # forward pass using \"test\" data\n",
    "        test_loss = loss_fn(test_pred, y_test) # calculate loss\n",
    "\n",
    "    if epoch % 10 == 0:\n",
    "        epoch_count.append(epoch)\n",
    "        loss_values.append(loss)\n",
    "        test_loss_values.append(test_loss)\n",
    "        print(f\"Epoch: {epoch} | Loss: {loss} | Test Loss: {test_loss}\")\n",
    "\n",
    "# print model loss &state_dict()\n",
    "# print(f\"Loss: {loss}\")\n",
    "# print(f\"State: {model_0.state_dict()}\")"
   ]
  },
  {
   "cell_type": "code",
   "execution_count": 33,
   "metadata": {},
   "outputs": [
    {
     "name": "stdout",
     "output_type": "stream",
     "text": [
      "[tensor(1.6606, grad_fn=<MeanBackward0>), tensor(1.5454, grad_fn=<MeanBackward0>), tensor(1.4302, grad_fn=<MeanBackward0>), tensor(1.3150, grad_fn=<MeanBackward0>), tensor(1.1998, grad_fn=<MeanBackward0>), tensor(1.0846, grad_fn=<MeanBackward0>), tensor(0.9693, grad_fn=<MeanBackward0>), tensor(0.8541, grad_fn=<MeanBackward0>), tensor(0.7389, grad_fn=<MeanBackward0>), tensor(0.6237, grad_fn=<MeanBackward0>), tensor(0.5085, grad_fn=<MeanBackward0>), tensor(0.3933, grad_fn=<MeanBackward0>), tensor(0.2781, grad_fn=<MeanBackward0>), tensor(0.1650, grad_fn=<MeanBackward0>), tensor(0.1182, grad_fn=<MeanBackward0>), tensor(0.1040, grad_fn=<MeanBackward0>), tensor(0.0976, grad_fn=<MeanBackward0>), tensor(0.0933, grad_fn=<MeanBackward0>), tensor(0.0896, grad_fn=<MeanBackward0>), tensor(0.0861, grad_fn=<MeanBackward0>)]\n",
      "tensor([1.6606, 1.5454, 1.4302, 1.3150, 1.1998, 1.0846, 0.9693, 0.8541, 0.7389,\n",
      "        0.6237, 0.5085, 0.3933, 0.2781, 0.1650, 0.1182, 0.1040, 0.0976, 0.0933,\n",
      "        0.0896, 0.0861])\n"
     ]
    }
   ],
   "source": [
    "# print(loss_values)\n",
    "# print(torch.tensor(loss_values))"
   ]
  },
  {
   "cell_type": "code",
   "execution_count": 34,
   "metadata": {},
   "outputs": [
    {
     "data": {
      "text/plain": [
       "<matplotlib.legend.Legend at 0x7f9031ae61c0>"
      ]
     },
     "execution_count": 34,
     "metadata": {},
     "output_type": "execute_result"
    },
    {
     "data": {
      "image/png": "[encoded data removed]",
      "text/plain": [
       "<Figure size 640x480 with 1 Axes>"
      ]
     },
     "metadata": {},
     "output_type": "display_data"
    }
   ],
   "source": [
    "import numpy as np\n",
    "\n",
    "# plot loss curve\n",
    "\n",
    "# variables are set to pytorch tensors\n",
    "# we need to change type from tensor to numpy array\n",
    "plt.plot(epoch_count, np.array(torch.tensor(loss_values).numpy()), label=\"Train Loss\")\n",
    "plt.plot(epoch_count, np.array(torch.tensor(test_loss_values).numpy()), label=\"Test Loss\")\n",
    "plt.title(\"Training and Test Loss Curves\")\n",
    "plt.ylabel(\"Loss\")\n",
    "plt.xlabel(\"Epochs\")\n",
    "plt.legend()"
   ]
  },
  {
   "cell_type": "code",
   "execution_count": 35,
   "metadata": {},
   "outputs": [
    {
     "name": "stdout",
     "output_type": "stream",
     "text": [
      "OrderedDict([('weights', tensor([0.2889])), ('bias', tensor([0.4724]))])\n"
     ]
    }
   ],
   "source": [
    "with torch.inference_mode():\n",
    "    y_predicts_model = model_0(X_test)\n",
    "\n",
    "print(model_0.state_dict())"
   ]
  },
  {
   "cell_type": "code",
   "execution_count": 36,
   "metadata": {},
   "outputs": [
    {
     "data": {
      "image/png": "[encoded data removed]",
      "text/plain": [
       "<Figure size 1000x700 with 1 Axes>"
      ]
     },
     "metadata": {},
     "output_type": "display_data"
    }
   ],
   "source": [
    "# restart the program if you want to clear all existing data\n",
    "# or the model will continue the training on the most recently updated parameters\n",
    "plot_predictions(predictions=y_predicts_model)"
   ]
  }
 ],
 "metadata": {
  "kernelspec": {
   "display_name": "Python 3",
   "language": "python",
   "name": "python3"
  },
  "language_info": {
   "codemirror_mode": {
    "name": "ipython",
    "version": 3
   },
   "file_extension": ".py",
   "mimetype": "text/x-python",
   "name": "python",
   "nbconvert_exporter": "python",
   "pygments_lexer": "ipython3",
   "version": "3.9.2"
  },
  "orig_nbformat": 4
 },
 "nbformat": 4,
 "nbformat_minor": 2
}
